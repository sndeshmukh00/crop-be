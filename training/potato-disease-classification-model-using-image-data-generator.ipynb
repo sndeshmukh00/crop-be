{
 "cells": [
  {
   "cell_type": "code",
   "execution_count": 4,
   "id": "ad3941c6-a6d7-42b6-b6da-95957f792eec",
   "metadata": {},
   "outputs": [],
   "source": [
    "import tensorflow as tf\n",
    "from tensorflow.keras import models, layers\n",
    "import matplotlib.pyplot as plt\n",
    "from IPython.display import HTML"
   ]
  },
  {
   "cell_type": "code",
   "execution_count": 5,
   "id": "c176defd-2487-41e1-8a60-30648fecacfc",
   "metadata": {},
   "outputs": [],
   "source": [
    "IMAGE_SIZE = 256\n",
    "CHANNELS = 3"
   ]
  },
  {
   "cell_type": "code",
   "execution_count": 6,
   "id": "6a580546-a884-484d-9c86-6ad739cd0d21",
   "metadata": {},
   "outputs": [
    {
     "name": "stdout",
     "output_type": "stream",
     "text": [
      "Found 1506 images belonging to 3 classes.\n"
     ]
    }
   ],
   "source": [
    "from tensorflow.keras.preprocessing.image import ImageDataGenerator\n",
    "\n",
    "train_datagen = ImageDataGenerator(\n",
    "        rescale=1./255,\n",
    "        rotation_range=10,\n",
    "        horizontal_flip=True\n",
    ")\n",
    "train_generator = train_datagen.flow_from_directory(\n",
    "        'dataset/train',\n",
    "        target_size=(IMAGE_SIZE,IMAGE_SIZE),\n",
    "        batch_size=32,\n",
    "        class_mode=\"sparse\",\n",
    "#         save_to_dir=\"C:\\\\Code\\\\potato-disease-classification\\\\training\\\\AugmentedImages\"\n",
    ")"
   ]
  },
  {
   "cell_type": "code",
   "execution_count": 7,
   "id": "30654f9c-3444-4097-ac10-e81f97da9ee3",
   "metadata": {},
   "outputs": [
    {
     "data": {
      "text/plain": [
       "{'Potato___Early_blight': 0, 'Potato___Late_blight': 1, 'Potato___healthy': 2}"
      ]
     },
     "execution_count": 7,
     "metadata": {},
     "output_type": "execute_result"
    }
   ],
   "source": [
    "train_generator.class_indices"
   ]
  },
  {
   "cell_type": "code",
   "execution_count": 8,
   "id": "eec9b1ce-d09c-4cf0-adf5-99a5ab6ae194",
   "metadata": {},
   "outputs": [
    {
     "data": {
      "text/plain": [
       "['Potato___Early_blight', 'Potato___Late_blight', 'Potato___healthy']"
      ]
     },
     "execution_count": 8,
     "metadata": {},
     "output_type": "execute_result"
    }
   ],
   "source": [
    "class_names = list(train_generator.class_indices.keys())\n",
    "class_names"
   ]
  },
  {
   "cell_type": "code",
   "execution_count": 12,
   "id": "d6660026-ae98-4fd0-afcf-a5486e2e4f91",
   "metadata": {},
   "outputs": [
    {
     "name": "stdout",
     "output_type": "stream",
     "text": [
      "[[[0.66947234 0.6616292  0.7126096 ]\n",
      "  [0.6698053  0.66196215 0.71294254]\n",
      "  [0.67013824 0.6622951  0.7132755 ]\n",
      "  ...\n",
      "  [0.7132967  0.701532   0.74466926]\n",
      "  [0.71200746 0.70024276 0.74338   ]\n",
      "  [0.6957756  0.6840109  0.7271482 ]]\n",
      "\n",
      " [[0.67658246 0.6687393  0.7197197 ]\n",
      "  [0.67358613 0.665743   0.7167234 ]\n",
      "  [0.67058975 0.6627466  0.71372706]\n",
      "  ...\n",
      "  [0.71462846 0.70286375 0.746001  ]\n",
      "  [0.7113416  0.6995769  0.74271417]\n",
      "  [0.69411105 0.68234634 0.7254836 ]]\n",
      "\n",
      " [[0.70087326 0.6930301  0.7440105 ]\n",
      "  [0.70120615 0.693363   0.7443434 ]\n",
      "  [0.7015391  0.69369596 0.74467635]\n",
      "  ...\n",
      "  [0.71596014 0.70419544 0.7473327 ]\n",
      "  [0.7106758  0.6989111  0.7420483 ]\n",
      "  [0.6924464  0.6806817  0.72381896]]\n",
      "\n",
      " ...\n",
      "\n",
      " [[0.5812923  0.58521384 0.6048217 ]\n",
      "  [0.5869276  0.59084916 0.61045706]\n",
      "  [0.5747837  0.57870525 0.5983131 ]\n",
      "  ...\n",
      "  [0.5501589  0.5305511  0.5540805 ]\n",
      "  [0.5541541  0.53454626 0.55807567]\n",
      "  [0.55814916 0.5385413  0.5620707 ]]\n",
      "\n",
      " [[0.5819582  0.58587974 0.6054876 ]\n",
      "  [0.58592886 0.5898504  0.60945827]\n",
      "  [0.57345194 0.5773735  0.59698135]\n",
      "  ...\n",
      "  [0.6357256  0.6161178  0.6396472 ]\n",
      "  [0.6270695  0.60746163 0.63099104]\n",
      "  [0.6184134  0.59880555 0.62233496]]\n",
      "\n",
      " [[0.58262396 0.5865455  0.60615337]\n",
      "  [0.5849301  0.5888517  0.60845953]\n",
      "  [0.57212025 0.5760418  0.59564966]\n",
      "  ...\n",
      "  [0.6505304  0.63092256 0.65445197]\n",
      "  [0.65019745 0.6305896  0.654119  ]\n",
      "  [0.6498645  0.63025665 0.65378606]]]\n"
     ]
    }
   ],
   "source": [
    "count=0\n",
    "for image_batch, label_batch in train_generator:\n",
    "#     print(label_batch)\n",
    "    print(image_batch[0])\n",
    "    break\n",
    "#     count+=1\n",
    "#     if count>2:\n",
    "#         break"
   ]
  },
  {
   "cell_type": "code",
   "execution_count": 13,
   "id": "274fd005-28fa-43c3-a18c-3d737280155d",
   "metadata": {},
   "outputs": [
    {
     "name": "stdout",
     "output_type": "stream",
     "text": [
      "Found 215 images belonging to 3 classes.\n"
     ]
    }
   ],
   "source": [
    "validation_datagen = ImageDataGenerator(\n",
    "        rescale=1./255,\n",
    "        rotation_range=10,\n",
    "        horizontal_flip=True)\n",
    "validation_generator = validation_datagen.flow_from_directory(\n",
    "        'dataset/val',\n",
    "        target_size=(IMAGE_SIZE,IMAGE_SIZE),\n",
    "        batch_size=32,\n",
    "        class_mode=\"sparse\"\n",
    ")"
   ]
  },
  {
   "cell_type": "code",
   "execution_count": 14,
   "id": "3966eadb-8a3d-4c12-ac62-7e22e1a4c5a1",
   "metadata": {},
   "outputs": [
    {
     "name": "stdout",
     "output_type": "stream",
     "text": [
      "Found 431 images belonging to 3 classes.\n"
     ]
    }
   ],
   "source": [
    "test_datagen = ImageDataGenerator(\n",
    "        rescale=1./255,\n",
    "        rotation_range=10,\n",
    "        horizontal_flip=True)\n",
    "\n",
    "test_generator = test_datagen.flow_from_directory(\n",
    "        'dataset/test',\n",
    "        target_size=(IMAGE_SIZE,IMAGE_SIZE),\n",
    "        batch_size=32,\n",
    "        class_mode=\"sparse\"\n",
    ")"
   ]
  },
  {
   "cell_type": "code",
   "execution_count": 15,
   "id": "5e27befa-d9e5-4350-8bf4-ba7a990dff26",
   "metadata": {},
   "outputs": [
    {
     "name": "stdout",
     "output_type": "stream",
     "text": [
      "[[[0.725855   0.71801186 0.76899225]\n",
      "  [0.7638538  0.75601065 0.80699104]\n",
      "  [0.78408736 0.7762442  0.8272246 ]\n",
      "  ...\n",
      "  [0.6067434  0.6028218  0.62242967]\n",
      "  [0.6152049  0.6112833  0.63089114]\n",
      "  [0.6236663  0.6197447  0.63935256]]\n",
      "\n",
      " [[0.7243835  0.71654034 0.7675207 ]\n",
      "  [0.7583354  0.7504923  0.80147266]\n",
      "  [0.7855589  0.77771574 0.82869613]\n",
      "  ...\n",
      "  [0.62640035 0.62377775 0.6394888 ]\n",
      "  [0.61499584 0.61274105 0.62734854]\n",
      "  [0.6035913  0.6017044  0.61520815]]\n",
      "\n",
      " [[0.7229119  0.71506876 0.7660492 ]\n",
      "  [0.7528171  0.74497396 0.79595435]\n",
      "  [0.78703046 0.7791873  0.8301677 ]\n",
      "  ...\n",
      "  [0.5028046  0.5028046  0.5106477 ]\n",
      "  [0.49066427 0.49066427 0.4985074 ]\n",
      "  [0.47852397 0.47852397 0.4863671 ]]\n",
      "\n",
      " ...\n",
      "\n",
      " [[0.79215693 0.7803922  0.8078432 ]\n",
      "  [0.79215693 0.7803922  0.8078432 ]\n",
      "  [0.79215693 0.7803922  0.8078432 ]\n",
      "  ...\n",
      "  [0.67586815 0.66410345 0.6915544 ]\n",
      "  [0.7151486  0.7033839  0.7308349 ]\n",
      "  [0.69164765 0.6798829  0.7073339 ]]\n",
      "\n",
      " [[0.7940438  0.7822791  0.80973005]\n",
      "  [0.79441166 0.78264695 0.81009793]\n",
      "  [0.79477954 0.78301483 0.8104658 ]\n",
      "  ...\n",
      "  [0.6751324  0.6633677  0.69081867]\n",
      "  [0.70999813 0.6982334  0.7256844 ]\n",
      "  [0.6975338  0.6857691  0.71322006]]\n",
      "\n",
      " [[0.80168724 0.78992254 0.8173735 ]\n",
      "  [0.8027909  0.7910262  0.8184772 ]\n",
      "  [0.8038946  0.7921299  0.81958085]\n",
      "  ...\n",
      "  [0.67439663 0.6626319  0.6900829 ]\n",
      "  [0.70484775 0.69308305 0.720534  ]\n",
      "  [0.70342004 0.69165534 0.7191063 ]]]\n"
     ]
    }
   ],
   "source": [
    "for image_batch, label_batch in test_generator:\n",
    "    print(image_batch[0])\n",
    "    break"
   ]
  },
  {
   "cell_type": "code",
   "execution_count": 16,
   "id": "2f31db7b-0852-409f-88af-a73405c97086",
   "metadata": {},
   "outputs": [],
   "source": [
    "input_shape = (IMAGE_SIZE, IMAGE_SIZE, CHANNELS)\n",
    "n_classes = 3\n",
    "\n",
    "model = models.Sequential([\n",
    "    layers.InputLayer(input_shape=input_shape),\n",
    "    layers.Conv2D(32, kernel_size = (3,3), activation='relu'),\n",
    "    layers.MaxPooling2D((2, 2)),\n",
    "    layers.Conv2D(64,  kernel_size = (3,3), activation='relu'),\n",
    "    layers.MaxPooling2D((2, 2)),\n",
    "    layers.Conv2D(64,  kernel_size = (3,3), activation='relu'),\n",
    "    layers.MaxPooling2D((2, 2)),\n",
    "    layers.Conv2D(64, (3, 3), activation='relu'),\n",
    "    layers.MaxPooling2D((2, 2)),\n",
    "    layers.Conv2D(64, (3, 3), activation='relu'),\n",
    "    layers.MaxPooling2D((2, 2)),\n",
    "    layers.Conv2D(64, (3, 3), activation='relu'),\n",
    "    layers.MaxPooling2D((2, 2)),\n",
    "    layers.Flatten(),\n",
    "    layers.Dense(64, activation='relu'),\n",
    "    layers.Dense(n_classes, activation='softmax'),\n",
    "])"
   ]
  },
  {
   "cell_type": "code",
   "execution_count": 17,
   "id": "54f33299-3427-4df4-8ca5-f54f2c05cc96",
   "metadata": {},
   "outputs": [
    {
     "name": "stdout",
     "output_type": "stream",
     "text": [
      "Model: \"sequential\"\n",
      "_________________________________________________________________\n",
      " Layer (type)                Output Shape              Param #   \n",
      "=================================================================\n",
      " conv2d (Conv2D)             (None, 254, 254, 32)      896       \n",
      "                                                                 \n",
      " max_pooling2d (MaxPooling2  (None, 127, 127, 32)      0         \n",
      " D)                                                              \n",
      "                                                                 \n",
      " conv2d_1 (Conv2D)           (None, 125, 125, 64)      18496     \n",
      "                                                                 \n",
      " max_pooling2d_1 (MaxPoolin  (None, 62, 62, 64)        0         \n",
      " g2D)                                                            \n",
      "                                                                 \n",
      " conv2d_2 (Conv2D)           (None, 60, 60, 64)        36928     \n",
      "                                                                 \n",
      " max_pooling2d_2 (MaxPoolin  (None, 30, 30, 64)        0         \n",
      " g2D)                                                            \n",
      "                                                                 \n",
      " conv2d_3 (Conv2D)           (None, 28, 28, 64)        36928     \n",
      "                                                                 \n",
      " max_pooling2d_3 (MaxPoolin  (None, 14, 14, 64)        0         \n",
      " g2D)                                                            \n",
      "                                                                 \n",
      " conv2d_4 (Conv2D)           (None, 12, 12, 64)        36928     \n",
      "                                                                 \n",
      " max_pooling2d_4 (MaxPoolin  (None, 6, 6, 64)          0         \n",
      " g2D)                                                            \n",
      "                                                                 \n",
      " conv2d_5 (Conv2D)           (None, 4, 4, 64)          36928     \n",
      "                                                                 \n",
      " max_pooling2d_5 (MaxPoolin  (None, 2, 2, 64)          0         \n",
      " g2D)                                                            \n",
      "                                                                 \n",
      " flatten (Flatten)           (None, 256)               0         \n",
      "                                                                 \n",
      " dense (Dense)               (None, 64)                16448     \n",
      "                                                                 \n",
      " dense_1 (Dense)             (None, 3)                 195       \n",
      "                                                                 \n",
      "=================================================================\n",
      "Total params: 183747 (717.76 KB)\n",
      "Trainable params: 183747 (717.76 KB)\n",
      "Non-trainable params: 0 (0.00 Byte)\n",
      "_________________________________________________________________\n"
     ]
    }
   ],
   "source": [
    "model.summary()"
   ]
  },
  {
   "cell_type": "code",
   "execution_count": 18,
   "id": "353208c1-8689-470c-b604-9c851f865e27",
   "metadata": {},
   "outputs": [],
   "source": [
    "model.compile(\n",
    "    optimizer='adam',\n",
    "    loss=tf.keras.losses.SparseCategoricalCrossentropy(from_logits=False),\n",
    "    metrics=['accuracy']\n",
    ")"
   ]
  },
  {
   "cell_type": "code",
   "execution_count": 19,
   "id": "d706a8df-4fe3-4fbb-9591-6f9bbb1c7e19",
   "metadata": {},
   "outputs": [
    {
     "name": "stdout",
     "output_type": "stream",
     "text": [
      "Epoch 1/20\n",
      "47/47 [==============================] - 103s 2s/step - loss: 0.8838 - accuracy: 0.5149 - val_loss: 0.7811 - val_accuracy: 0.6615\n",
      "Epoch 2/20\n",
      "47/47 [==============================] - 86s 2s/step - loss: 0.6099 - accuracy: 0.7368 - val_loss: 0.4491 - val_accuracy: 0.8073\n",
      "Epoch 3/20\n",
      "47/47 [==============================] - 88s 2s/step - loss: 0.3946 - accuracy: 0.8504 - val_loss: 0.4334 - val_accuracy: 0.8073\n",
      "Epoch 4/20\n",
      "47/47 [==============================] - 87s 2s/step - loss: 0.3091 - accuracy: 0.8745 - val_loss: 0.3425 - val_accuracy: 0.8646\n",
      "Epoch 5/20\n",
      "47/47 [==============================] - 84s 2s/step - loss: 0.3015 - accuracy: 0.8772 - val_loss: 0.2623 - val_accuracy: 0.8750\n",
      "Epoch 6/20\n",
      "47/47 [==============================] - 85s 2s/step - loss: 0.2116 - accuracy: 0.9111 - val_loss: 0.3362 - val_accuracy: 0.8594\n",
      "Epoch 7/20\n",
      "47/47 [==============================] - 85s 2s/step - loss: 0.1814 - accuracy: 0.9294 - val_loss: 0.2247 - val_accuracy: 0.9219\n",
      "Epoch 8/20\n",
      "47/47 [==============================] - 86s 2s/step - loss: 0.1498 - accuracy: 0.9471 - val_loss: 0.2934 - val_accuracy: 0.8906\n",
      "Epoch 9/20\n",
      "47/47 [==============================] - 85s 2s/step - loss: 0.2004 - accuracy: 0.9172 - val_loss: 0.1986 - val_accuracy: 0.9115\n",
      "Epoch 10/20\n",
      "47/47 [==============================] - 85s 2s/step - loss: 0.1600 - accuracy: 0.9349 - val_loss: 0.1606 - val_accuracy: 0.9375\n",
      "Epoch 11/20\n",
      "47/47 [==============================] - 84s 2s/step - loss: 0.1406 - accuracy: 0.9444 - val_loss: 0.3065 - val_accuracy: 0.9062\n",
      "Epoch 12/20\n",
      "47/47 [==============================] - 288s 6s/step - loss: 0.1357 - accuracy: 0.9498 - val_loss: 0.1893 - val_accuracy: 0.9323\n",
      "Epoch 13/20\n",
      "47/47 [==============================] - 84s 2s/step - loss: 0.1182 - accuracy: 0.9559 - val_loss: 0.1572 - val_accuracy: 0.9531\n",
      "Epoch 14/20\n",
      "47/47 [==============================] - 85s 2s/step - loss: 0.0864 - accuracy: 0.9661 - val_loss: 0.1759 - val_accuracy: 0.9062\n",
      "Epoch 15/20\n",
      "47/47 [==============================] - 86s 2s/step - loss: 0.1102 - accuracy: 0.9579 - val_loss: 0.1627 - val_accuracy: 0.9375\n",
      "Epoch 16/20\n",
      "47/47 [==============================] - 87s 2s/step - loss: 0.1552 - accuracy: 0.9369 - val_loss: 0.1333 - val_accuracy: 0.9583\n",
      "Epoch 17/20\n",
      "47/47 [==============================] - 85s 2s/step - loss: 0.1245 - accuracy: 0.9444 - val_loss: 0.1330 - val_accuracy: 0.9479\n",
      "Epoch 18/20\n",
      "47/47 [==============================] - 87s 2s/step - loss: 0.0946 - accuracy: 0.9715 - val_loss: 0.1315 - val_accuracy: 0.9427\n",
      "Epoch 19/20\n",
      "47/47 [==============================] - 87s 2s/step - loss: 0.0630 - accuracy: 0.9769 - val_loss: 0.0823 - val_accuracy: 0.9688\n",
      "Epoch 20/20\n",
      "47/47 [==============================] - 85s 2s/step - loss: 0.0599 - accuracy: 0.9769 - val_loss: 0.0469 - val_accuracy: 0.9844\n"
     ]
    }
   ],
   "source": [
    "history = model.fit(\n",
    "    train_generator,\n",
    "    steps_per_epoch=47,\n",
    "    batch_size=32,\n",
    "    validation_data=validation_generator,\n",
    "    validation_steps=6,\n",
    "    verbose=1,\n",
    "    epochs=20,\n",
    ")"
   ]
  },
  {
   "cell_type": "code",
   "execution_count": null,
   "id": "3fa7016a-7625-4716-a751-7e48efb67536",
   "metadata": {},
   "outputs": [],
   "source": []
  }
 ],
 "metadata": {
  "kernelspec": {
   "display_name": "Python 3 (ipykernel)",
   "language": "python",
   "name": "python3"
  },
  "language_info": {
   "codemirror_mode": {
    "name": "ipython",
    "version": 3
   },
   "file_extension": ".py",
   "mimetype": "text/x-python",
   "name": "python",
   "nbconvert_exporter": "python",
   "pygments_lexer": "ipython3",
   "version": "3.11.4"
  }
 },
 "nbformat": 4,
 "nbformat_minor": 5
}
